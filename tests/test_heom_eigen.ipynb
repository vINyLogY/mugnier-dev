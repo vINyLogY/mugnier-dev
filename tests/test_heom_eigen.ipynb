{
 "cells": [
  {
   "cell_type": "code",
   "execution_count": 36,
   "metadata": {},
   "outputs": [],
   "source": [
    "%matplotlib inline\n",
    "\n",
    "from math import prod, inf\n",
    "import numpy as np\n",
    "import torch\n",
    "from mugnier.libs import backend\n",
    "from mugnier.libs.quantity import Quantity as __\n",
    "from mugnier.heom.hierachy import ExtendedDensityTensor, SineExtendedDensityTensor, Hierachy, SineHierachy\n",
    "from mugnier.heom.bath import BoseEinstein, Drude, DiscreteVibration, Correlation\n",
    "from mugnier.operator.spo import Integrator\n",
    "\n",
    "from matplotlib import pyplot as plt\n"
   ]
  },
  {
   "cell_type": "markdown",
   "metadata": {},
   "source": [
    "- Define the models"
   ]
  },
  {
   "cell_type": "code",
   "execution_count": 37,
   "metadata": {},
   "outputs": [],
   "source": [
    "# System settings:\n",
    "e = __(5000, '/cm').au\n",
    "v = __(0, '/cm').au\n",
    "h = backend.array([[-e, v], [v, e]])\n",
    "op = backend.array([[-1.0, 0.0], [0.0, 1.0]])\n",
    "rdo = backend.array([[0.5, 0.5], [0.5, 0.5]])\n",
    "\n",
    "# Bath settings:\n",
    "beta = None\n",
    "#beta = __(1 / 300, '/K').au\n",
    "distr = BoseEinstein(n=0, beta=beta)\n",
    "\n",
    "# HEOM basis settings:\n",
    "scale=1.0\n",
    "dim = 20\n",
    "start, stop = (-16, 16)\n",
    "include_drude = True\n",
    "include_boson = False\n"
   ]
  },
  {
   "cell_type": "code",
   "execution_count": 38,
   "metadata": {},
   "outputs": [],
   "source": [
    "def test_hierachy_coh(use_dvr=True):\n",
    "    corr = Correlation(distr)\n",
    "    if include_drude:\n",
    "        # lambda sol: 250 -- 1400\n",
    "        corr +=  Drude(__(100, '/cm').au, __(50, '/cm').au, distr)\n",
    "    if include_boson:\n",
    "        corr += DiscreteVibration(__(1500, '/cm').au, __(500, '/cm').au, distr)\n",
    "    k_max = corr.k_max \n",
    "    corr.print()\n",
    "\n",
    "    if not use_dvr:\n",
    "        Hierachy.scale_factor = scale\n",
    "        heom_op = Hierachy(h, op, corr, [dim] * k_max)\n",
    "        s = ExtendedDensityTensor(rdo, [dim] * k_max)\n",
    "    else:\n",
    "        SineHierachy.scale_factor = scale\n",
    "        heom_op = SineHierachy(h, op, corr, [(start, stop, dim)] * k_max)\n",
    "        s = SineExtendedDensityTensor(rdo, [(start, stop, dim)] * k_max)\n",
    "    solver = Integrator(heom_op, s)\n",
    "\n",
    "    length = prod(s.shape(s.root))\n",
    "    return solver.split_diff_op(s.root).reshape((length, length))\n"
   ]
  },
  {
   "cell_type": "markdown",
   "metadata": {},
   "source": [
    "- Test eigenvalues of the generators "
   ]
  },
  {
   "cell_type": "code",
   "execution_count": 39,
   "metadata": {},
   "outputs": [
    {
     "name": "stdout",
     "output_type": "stream",
     "text": [
      "Correlation coefficents:\n",
      "            c: [0.-2.07601909e-07j];\n",
      "            (c* = [0.+2.07601909e-07j];)\n",
      "            gamma: [-0.00022782+0.j].\n",
      "        \n",
      "f_0 = 1.0\n"
     ]
    },
    {
     "data": {
      "image/png": "[encoded data removed]",
      "text/plain": [
       "<Figure size 432x288 with 1 Axes>"
      ]
     },
     "metadata": {
      "needs_background": "light"
     },
     "output_type": "display_data"
    }
   ],
   "source": [
    "diff = test_hierachy_coh(use_dvr=False)\n",
    "\n",
    "l = torch.linalg.eigvals(diff)\n",
    "re, im = l.cpu().real, l.cpu().imag\n",
    "re = [__(r).convert_to('/cm').value for r in re]\n",
    "im = [__(i).convert_to('/cm').value for i in im]\n",
    "plt.plot(re, im, '.')\n",
    "plt.xlabel('Real')\n",
    "plt.ylabel('Imaginary')\n",
    "\n",
    "if include_drude and include_boson:\n",
    "    fname = 'all_heom'\n",
    "elif include_boson:\n",
    "    fname = 'discrete_heom'\n",
    "elif include_drude:\n",
    "    fname = 'drude_heom'\n",
    "else:\n",
    "    fname = 'dummy_heom' \n",
    "\n",
    "plt.savefig(fname + '.pdf') "
   ]
  },
  {
   "cell_type": "markdown",
   "metadata": {},
   "source": [
    "- Test Eigenvalues for DVR-HEOM"
   ]
  },
  {
   "cell_type": "code",
   "execution_count": 40,
   "metadata": {},
   "outputs": [
    {
     "name": "stdout",
     "output_type": "stream",
     "text": [
      "Correlation coefficents:\n",
      "            c: [0.-2.07601909e-07j];\n",
      "            (c* = [0.+2.07601909e-07j];)\n",
      "            gamma: [-0.00022782+0.j].\n",
      "        \n",
      "f_0 = 1.0\n"
     ]
    },
    {
     "data": {
      "image/png": "[encoded data removed]",
      "text/plain": [
       "<Figure size 432x288 with 1 Axes>"
      ]
     },
     "metadata": {
      "needs_background": "light"
     },
     "output_type": "display_data"
    }
   ],
   "source": [
    "diff = test_hierachy_coh(use_dvr=True)\n",
    "l = torch.linalg.eigvals(diff)\n",
    "re, im = l.real, l.imag\n",
    "re = [__(r).convert_to('/cm').value for r in re]\n",
    "im = [__(i).convert_to('/cm').value for i in im]\n",
    "plt.plot(re, im, '.')\n",
    "# plt.xlim(-1, 1)\n",
    "# plt.ylim(-1.5, 1.5)\n",
    "plt.xlabel('Real')\n",
    "plt.ylabel('Imaginary')\n",
    "\n",
    "if include_drude and include_boson:\n",
    "    fname = 'all_dvr'\n",
    "elif include_boson:\n",
    "    fname = 'discrete_dvr'\n",
    "elif include_drude:\n",
    "    fname = 'drude_dvr'\n",
    "else:\n",
    "    fname = 'dummy_dvr' \n",
    "\n",
    "plt.savefig(fname + '.pdf') "
   ]
  },
  {
   "cell_type": "code",
   "execution_count": null,
   "metadata": {},
   "outputs": [],
   "source": []
  }
 ],
 "metadata": {
  "interpreter": {
   "hash": "9097477f71f05ca144fa92f1c01b72993e246a69e6581e30ec887f31571c2631"
  },
  "kernelspec": {
   "display_name": "Python 3 (ipykernel)",
   "language": "python",
   "name": "python3"
  },
  "language_info": {
   "codemirror_mode": {
    "name": "ipython",
    "version": 3
   },
   "file_extension": ".py",
   "mimetype": "text/x-python",
   "name": "python",
   "nbconvert_exporter": "python",
   "pygments_lexer": "ipython3",
   "version": "3.10.4"
  },
  "toc-autonumbering": true,
  "toc-showcode": true
 },
 "nbformat": 4,
 "nbformat_minor": 4
}
