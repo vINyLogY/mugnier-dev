{
 "cells": [
  {
   "cell_type": "code",
   "execution_count": 7,
   "metadata": {},
   "outputs": [],
   "source": [
    "from mugnier.basis.dvr import SineDVR\n",
    "from mugnier.heom.bath import (BoseEinstein, Correlation, DiscreteVibration, Drude, UnderdampedBrownian)\n",
    "from mugnier.mctdh.lvn import SpinBosonDensityOperator, SpinBosonLvN\n",
    "from mugnier.libs import backend\n",
    "from mugnier.libs.logging import Logger\n",
    "from mugnier.libs.quantity import Quantity as __\n",
    "from mugnier.operator.spo import Integrator\n",
    "from tqdm import trange"
   ]
  },
  {
   "cell_type": "code",
   "execution_count": 8,
   "metadata": {},
   "outputs": [],
   "source": [
    "betas = {'HT': __(1 / 100_000, '/K').au, 'ZT': None}\n",
    "\n",
    "# System settings:\n",
    "e = __(5000.0, '/cm').au\n",
    "v = __(0.0, '/cm').au\n",
    "h = backend.array([[0, v], [v, e]])\n",
    "op = backend.array([[0.0, 0.0], [0.0, 1.0]])\n",
    "rdo = backend.array([[0.5, 0.5], [0.5, 0.5]])\n",
    "\n",
    "# Bath settings:\n",
    "\n",
    "distr = BoseEinstein(n=0, beta=None)\n",
    "corr = DiscreteVibration( __(1500, '/cm').au, __(500, '/cm').au, distr)\n",
    "dim = 200\n",
    "\n",
    "# Propagator settings:\n",
    "callback_steps = 10\n",
    "steps = 500 * callback_steps\n",
    "interval = __(0.1 / callback_steps, 'fs')\n",
    "ode_method = 'dopri5'\n",
    "\n",
    "# logging\n",
    "fname = 'LvN' + f'-({dim})'"
   ]
  },
  {
   "cell_type": "code",
   "execution_count": 9,
   "metadata": {},
   "outputs": [],
   "source": [
    "def iter_lvn():\n",
    "    logger = Logger(filename=fname + '.log', level='info').logger\n",
    "    logger.info(f'# device:{backend.device}')\n",
    "    logger.info(f'# dim:{dim} | K:{corr.k_max} | ODE_method:{ode_method} | dt:{interval} | callback:{callback_steps}')\n",
    "\n",
    "    lvn_op = SpinBosonLvN(h, op, [corr], [dim])\n",
    "    s = SpinBosonDensityOperator(rdo, [dim])\n",
    "    print(s.shape(s.root))\n",
    "\n",
    "    solver = Integrator(lvn_op, s)\n",
    "\n",
    "    logger.info('# time rdo00 rdo01 rdo10 rdo11')\n",
    "    it = trange(steps)\n",
    "    for i in it:\n",
    "        solver.odeint(interval.au, method=ode_method)\n",
    "        if i % callback_steps == 0:\n",
    "            _t = interval * i\n",
    "            _rdo = s.get_rdo()\n",
    "            logger.info(f'{_t.au} {_rdo[0, 0]} {_rdo[0, 1]} {_rdo[1, 0]} {_rdo[1, 1]}')\n",
    "\n",
    "            yield s[s.root]\n",
    "\n",
    "            trace = abs(_rdo[0, 0] + _rdo[1, 1])\n",
    "            coh = abs(_rdo[0, 1])\n",
    "            it.set_description(f'Time:{_t.value:.2f}fs | Tr:{trace:.4f} | Coh:{coh:.4f}')"
   ]
  },
  {
   "cell_type": "code",
   "execution_count": 10,
   "metadata": {},
   "outputs": [
    {
     "ename": "AssertionError",
     "evalue": "",
     "output_type": "error",
     "traceback": [
      "\u001b[0;31m---------------------------------------------------------------------------\u001b[0m",
      "\u001b[0;31mAssertionError\u001b[0m                            Traceback (most recent call last)",
      "\u001b[1;32m/home/vinylogy/pyth/tests/test_lvn_dynamics.ipynb Cell 4'\u001b[0m in \u001b[0;36m<cell line: 1>\u001b[0;34m()\u001b[0m\n\u001b[0;32m----> <a href='vscode-notebook-cell://wsl%2Bubuntu/home/vinylogy/pyth/tests/test_lvn_dynamics.ipynb#ch0000003vscode-remote?line=0'>1</a>\u001b[0m \u001b[39mfor\u001b[39;00m _ \u001b[39min\u001b[39;00m iter_lvn():\n\u001b[1;32m      <a href='vscode-notebook-cell://wsl%2Bubuntu/home/vinylogy/pyth/tests/test_lvn_dynamics.ipynb#ch0000003vscode-remote?line=1'>2</a>\u001b[0m     \u001b[39mpass\u001b[39;00m\n",
      "\u001b[1;32m/home/vinylogy/pyth/tests/test_lvn_dynamics.ipynb Cell 3'\u001b[0m in \u001b[0;36miter_lvn\u001b[0;34m()\u001b[0m\n\u001b[1;32m      <a href='vscode-notebook-cell://wsl%2Bubuntu/home/vinylogy/pyth/tests/test_lvn_dynamics.ipynb#ch0000002vscode-remote?line=3'>4</a>\u001b[0m logger\u001b[39m.\u001b[39minfo(\u001b[39mf\u001b[39m\u001b[39m'\u001b[39m\u001b[39m# dim:\u001b[39m\u001b[39m{\u001b[39;00mdim\u001b[39m}\u001b[39;00m\u001b[39m | K:\u001b[39m\u001b[39m{\u001b[39;00mcorr\u001b[39m.\u001b[39mk_max\u001b[39m}\u001b[39;00m\u001b[39m | ODE_method:\u001b[39m\u001b[39m{\u001b[39;00mode_method\u001b[39m}\u001b[39;00m\u001b[39m | dt:\u001b[39m\u001b[39m{\u001b[39;00minterval\u001b[39m}\u001b[39;00m\u001b[39m | callback:\u001b[39m\u001b[39m{\u001b[39;00mcallback_steps\u001b[39m}\u001b[39;00m\u001b[39m'\u001b[39m)\n\u001b[1;32m      <a href='vscode-notebook-cell://wsl%2Bubuntu/home/vinylogy/pyth/tests/test_lvn_dynamics.ipynb#ch0000002vscode-remote?line=5'>6</a>\u001b[0m lvn_op \u001b[39m=\u001b[39m SpinBosonLvN(h, op, [corr], [dim])\n\u001b[0;32m----> <a href='vscode-notebook-cell://wsl%2Bubuntu/home/vinylogy/pyth/tests/test_lvn_dynamics.ipynb#ch0000002vscode-remote?line=6'>7</a>\u001b[0m s \u001b[39m=\u001b[39m SpinBosonDensityOperator(rdo, [dim])\n\u001b[1;32m      <a href='vscode-notebook-cell://wsl%2Bubuntu/home/vinylogy/pyth/tests/test_lvn_dynamics.ipynb#ch0000002vscode-remote?line=7'>8</a>\u001b[0m \u001b[39mprint\u001b[39m(s\u001b[39m.\u001b[39mshape(s\u001b[39m.\u001b[39mroot))\n\u001b[1;32m     <a href='vscode-notebook-cell://wsl%2Bubuntu/home/vinylogy/pyth/tests/test_lvn_dynamics.ipynb#ch0000002vscode-remote?line=9'>10</a>\u001b[0m solver \u001b[39m=\u001b[39m Integrator(lvn_op, s)\n",
      "File \u001b[0;32m~/pyth/src/mugnier/mctdh/lvn.py:39\u001b[0m, in \u001b[0;36mSpinBosonDensityOperator.__init__\u001b[0;34m(self, rdo, dims, beta)\u001b[0m\n\u001b[1;32m     <a href='file:///home/vinylogy/pyth/src/mugnier/mctdh/lvn.py?line=36'>37</a>\u001b[0m \u001b[39m# ZT case\u001b[39;00m\n\u001b[1;32m     <a href='file:///home/vinylogy/pyth/src/mugnier/mctdh/lvn.py?line=37'>38</a>\u001b[0m ext \u001b[39m=\u001b[39m zeros((prod(dims), prod(dims)))\n\u001b[0;32m---> <a href='file:///home/vinylogy/pyth/src/mugnier/mctdh/lvn.py?line=38'>39</a>\u001b[0m ext[\u001b[39m0\u001b[39m, \u001b[39m0\u001b[39m] \u001b[39m=\u001b[39m \u001b[39m1.0\u001b[39m\n\u001b[1;32m     <a href='file:///home/vinylogy/pyth/src/mugnier/mctdh/lvn.py?line=39'>40</a>\u001b[0m array \u001b[39m=\u001b[39m np\u001b[39m.\u001b[39mtensordot(rdo, ext, axes\u001b[39m=\u001b[39m\u001b[39m0\u001b[39m)\u001b[39m.\u001b[39mreshape(shape \u001b[39m+\u001b[39m dims \u001b[39m+\u001b[39m dims)\n\u001b[1;32m     <a href='file:///home/vinylogy/pyth/src/mugnier/mctdh/lvn.py?line=40'>41</a>\u001b[0m \u001b[39mself\u001b[39m[\u001b[39mself\u001b[39m\u001b[39m.\u001b[39mroot] \u001b[39m=\u001b[39m array\n",
      "File \u001b[0;32m~/pyth/src/mugnier/state/model.py:40\u001b[0m, in \u001b[0;36mModel.__setitem__\u001b[0;34m(self, p, array)\u001b[0m\n\u001b[1;32m     <a href='file:///home/vinylogy/pyth/src/mugnier/state/model.py?line=37'>38</a>\u001b[0m \u001b[39massert\u001b[39;00m p \u001b[39min\u001b[39;00m \u001b[39mself\u001b[39m\u001b[39m.\u001b[39mframe\u001b[39m.\u001b[39mnodes\n\u001b[1;32m     <a href='file:///home/vinylogy/pyth/src/mugnier/state/model.py?line=38'>39</a>\u001b[0m order \u001b[39m=\u001b[39m \u001b[39mself\u001b[39m\u001b[39m.\u001b[39mframe\u001b[39m.\u001b[39morder(p)\n\u001b[0;32m---> <a href='file:///home/vinylogy/pyth/src/mugnier/state/model.py?line=39'>40</a>\u001b[0m \u001b[39massert\u001b[39;00m array\u001b[39m.\u001b[39mndim \u001b[39m==\u001b[39m order\n\u001b[1;32m     <a href='file:///home/vinylogy/pyth/src/mugnier/state/model.py?line=41'>42</a>\u001b[0m \u001b[39m# Check confliction\u001b[39;00m\n\u001b[1;32m     <a href='file:///home/vinylogy/pyth/src/mugnier/state/model.py?line=42'>43</a>\u001b[0m \u001b[39mfor\u001b[39;00m i \u001b[39min\u001b[39;00m \u001b[39mrange\u001b[39m(order):\n",
      "\u001b[0;31mAssertionError\u001b[0m: "
     ]
    }
   ],
   "source": [
    "for _ in iter_lvn():\n",
    "    pass"
   ]
  }
 ],
 "metadata": {
  "interpreter": {
   "hash": "9097477f71f05ca144fa92f1c01b72993e246a69e6581e30ec887f31571c2631"
  },
  "kernelspec": {
   "display_name": "Python 3.10.4 ('mkl')",
   "language": "python",
   "name": "python3"
  },
  "language_info": {
   "codemirror_mode": {
    "name": "ipython",
    "version": 3
   },
   "file_extension": ".py",
   "mimetype": "text/x-python",
   "name": "python",
   "nbconvert_exporter": "python",
   "pygments_lexer": "ipython3",
   "version": "3.10.4"
  },
  "orig_nbformat": 4
 },
 "nbformat": 4,
 "nbformat_minor": 2
}
