{
 "cells": [
  {
   "cell_type": "code",
   "execution_count": 1,
   "metadata": {},
   "outputs": [],
   "source": [
    "from mugnier.basis.dvr import SineDVR\n",
    "from mugnier.heom.bath import (BoseEinstein, Correlation, DiscreteVibration, Drude, UnderdampedBrownian)\n",
    "from mugnier.mctdh.lvn import SpinBosonDensityOperator, SpinBosonLvN\n",
    "from mugnier.libs import backend\n",
    "from mugnier.libs.logging import Logger\n",
    "from mugnier.libs.quantity import Quantity as __\n",
    "from mugnier.operator.spo import Propagator\n",
    "from tqdm import trange"
   ]
  },
  {
   "cell_type": "code",
   "execution_count": 2,
   "metadata": {},
   "outputs": [],
   "source": [
    "betas = {'HT': __(1 / 100_000, '/K').au, 'ZT': None}\n",
    "\n",
    "# System settings:\n",
    "e = __(5000.0, '/cm').au\n",
    "v = __(0.0, '/cm').au\n",
    "h = backend.array([[0, v], [v, e]])\n",
    "op = backend.array([[0.0, 0.0], [0.0, 1.0]])\n",
    "rdo = backend.array([[0.5, 0.5], [0.5, 0.5]])\n",
    "\n",
    "# Bath settings:\n",
    "\n",
    "distr = BoseEinstein(n=0, beta=None)\n",
    "corr = DiscreteVibration( __(1500, '/cm').au, __(500, '/cm').au, distr)\n",
    "dim = 200\n",
    "\n",
    "# Propagator settings:\n",
    "callback_steps = 10\n",
    "steps = 500 * callback_steps\n",
    "interval = __(0.1 / callback_steps, 'fs')\n",
    "ode_method = 'dopri5'\n",
    "\n",
    "# logging\n",
    "fname = 'LvN' + f'-({dim})'"
   ]
  },
  {
   "cell_type": "code",
   "execution_count": 3,
   "metadata": {},
   "outputs": [],
   "source": [
    "def iter_lvn():\n",
    "    logger = Logger(filename=fname + '.log', level='info').logger\n",
    "    logger.info(f'# device:{backend.device}')\n",
    "    logger.info(f'# dim:{dim} | K:{corr.k_max} | ODE_method:{ode_method} | dt:{interval} | callback:{callback_steps}')\n",
    "\n",
    "    lvn_op = SpinBosonLvN(h, op, [corr], [dim])\n",
    "    s = SpinBosonDensityOperator(rdo, [dim])\n",
    "\n",
    "    solver = Propagator(lvn_op, s, interval.au, method=ode_method)\n",
    "\n",
    "    logger.info('# time rdo00 rdo01 rdo10 rdo11')\n",
    "    it = trange(steps)\n",
    "    for i in it:\n",
    "        solver.node_step()\n",
    "        if i % callback_steps == 0:\n",
    "            _t = interval * i\n",
    "            _rdo = s.get_rdo()\n",
    "            logger.info(f'{_t.au} {_rdo[0, 0]} {_rdo[0, 1]} {_rdo[1, 0]} {_rdo[1, 1]}')\n",
    "\n",
    "            yield s[s.root]\n",
    "\n",
    "            trace = abs(_rdo[0, 0] + _rdo[1, 1])\n",
    "            coh = abs(_rdo[0, 1])\n",
    "            it.set_description(f'Time:{_t.value:.2f}fs | Tr:{trace:.4f} | Coh:{coh:.4f}')"
   ]
  },
  {
   "cell_type": "code",
   "execution_count": 4,
   "metadata": {},
   "outputs": [
    {
     "name": "stdout",
     "output_type": "stream",
     "text": [
      "[2, 2, 200, 200]\n"
     ]
    },
    {
     "name": "stderr",
     "output_type": "stream",
     "text": [
      "Time:49.90fs | Tr:1.0000 | Coh:0.4492: 100%|██████████| 5000/5000 [27:52<00:00,  2.99it/s]\n"
     ]
    }
   ],
   "source": [
    "for _ in iter_lvn():\n",
    "    pass"
   ]
  }
 ],
 "metadata": {
  "interpreter": {
   "hash": "9097477f71f05ca144fa92f1c01b72993e246a69e6581e30ec887f31571c2631"
  },
  "kernelspec": {
   "display_name": "Python 3.10.4 ('mkl')",
   "language": "python",
   "name": "python3"
  },
  "language_info": {
   "codemirror_mode": {
    "name": "ipython",
    "version": 3
   },
   "file_extension": ".py",
   "mimetype": "text/x-python",
   "name": "python",
   "nbconvert_exporter": "python",
   "pygments_lexer": "ipython3",
   "version": "3.10.4"
  },
  "orig_nbformat": 4
 },
 "nbformat": 4,
 "nbformat_minor": 2
}
