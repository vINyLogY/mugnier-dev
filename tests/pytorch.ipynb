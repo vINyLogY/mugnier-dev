{
 "cells": [
  {
   "cell_type": "code",
   "execution_count": 1,
   "id": "43ef3104-f129-4fb6-9076-9f66b74d0727",
   "metadata": {},
   "outputs": [
    {
     "name": "stdout",
     "output_type": "stream",
     "text": [
      "Using cuda device\n"
     ]
    }
   ],
   "source": [
    "import torch\n",
    "import numpy as np\n",
    "from sys import getsizeof\n",
    "\n",
    "\n",
    "device = \"cuda\" if torch.cuda.is_available() else \"cpu\"\n",
    "print(f\"Using {device} device\")\n",
    "dtype = np.complex64\n",
    "\n",
    "N, M = 10, 20\n",
    "dt = 0.2"
   ]
  },
  {
   "cell_type": "code",
   "execution_count": 8,
   "id": "013e31a4-982d-45aa-b411-7ebd967c3c91",
   "metadata": {},
   "outputs": [],
   "source": [
    "a_np = np.array(np.random.rand(N, N, N, N, N, N) * 10, dtype=dtype)\n",
    "a_cpu = torch.tensor(a_np, device=\"cpu\")\n",
    "a_gpu = torch.tensor(a_np, device=device)\n",
    "\n",
    "bs_np = [np.array(np.random.rand(N, N) * 10, dtype=dtype) for _ in range(a_np.ndim)]\n",
    "bs_np = [(b + b.T)*0.5 for b in bs_np]\n",
    "bs_cpu = [torch.tensor(b, device=\"cpu\") for b in bs_np]\n",
    "bs_gpu = [torch.tensor(b, device=device) for b in bs_np]\n"
   ]
  },
  {
   "cell_type": "markdown",
   "id": "4794870a-93c4-4b18-97cd-b398fdb5fa05",
   "metadata": {},
   "source": [
    "- Testing the partial transforms in CPU using pytorch:"
   ]
  },
  {
   "cell_type": "code",
   "execution_count": 11,
   "id": "08c3ec1f-f39d-481f-a601-9e8b4080c5bb",
   "metadata": {},
   "outputs": [
    {
     "name": "stdout",
     "output_type": "stream",
     "text": [
      "torch.Size([10, 10, 10, 10, 10, 10]) cpu\n",
      "CPU times: user 95.4 ms, sys: 9.01 ms, total: 104 ms\n",
      "Wall time: 9.45 ms\n"
     ]
    }
   ],
   "source": [
    "%%time\n",
    "a = a_cpu\n",
    "for i, b in enumerate(bs_cpu):\n",
    "    u = torch.matrix_exp(-1.0j * dt * b)\n",
    "    a = torch.tensordot(a, u, ([i], [0]))\n",
    "    a = torch.moveaxis(a, -1, i)\n",
    "print(a.shape, a.device)"
   ]
  },
  {
   "cell_type": "markdown",
   "id": "b4595b97-e9fc-4906-adeb-22e2e6c4a57e",
   "metadata": {},
   "source": [
    "- Testing the partial transforms in GPU using pytorch:"
   ]
  },
  {
   "cell_type": "code",
   "execution_count": 10,
   "id": "75864804-e341-428f-8074-e71c063d0f20",
   "metadata": {},
   "outputs": [
    {
     "name": "stdout",
     "output_type": "stream",
     "text": [
      "torch.Size([10, 10, 10, 10, 10, 10]) cuda:0\n",
      "CPU times: user 21 ms, sys: 50 µs, total: 21 ms\n",
      "Wall time: 18.3 ms\n"
     ]
    }
   ],
   "source": [
    "%%time\n",
    "a = a_gpu\n",
    "for i, b in enumerate(bs_gpu):\n",
    "    u = torch.matrix_exp(-1.0j * dt * b)\n",
    "    a = torch.tensordot(a, u, ([i], [0]))\n",
    "    a = torch.moveaxis(a, -1, i)\n",
    "print(a.shape, a.device)"
   ]
  }
 ],
 "metadata": {
  "kernelspec": {
   "display_name": "Python 3 (ipykernel)",
   "language": "python",
   "name": "python3"
  },
  "language_info": {
   "codemirror_mode": {
    "name": "ipython",
    "version": 3
   },
   "file_extension": ".py",
   "mimetype": "text/x-python",
   "name": "python",
   "nbconvert_exporter": "python",
   "pygments_lexer": "ipython3",
   "version": "3.10.4"
  }
 },
 "nbformat": 4,
 "nbformat_minor": 5
}
