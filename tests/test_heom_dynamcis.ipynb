{
 "cells": [
  {
   "cell_type": "code",
   "execution_count": 1,
   "metadata": {},
   "outputs": [],
   "source": [
    "from mugnier.basis.dvr import SineDVR\n",
    "from mugnier.heom.bath import (BoseEinstein, Correlation, DiscreteVibration, Drude, UnderdampedBrownian)\n",
    "from mugnier.heom.hierachy import (ExtendedDensityTensor, Hierachy, SineExtendedDensityTensor, SineHierachy)\n",
    "from mugnier.libs import backend\n",
    "from mugnier.libs.logging import Logger\n",
    "from mugnier.libs.quantity import Quantity as __\n",
    "from mugnier.operator.spo import Propagator\n",
    "from tqdm import trange"
   ]
  },
  {
   "cell_type": "code",
   "execution_count": 9,
   "metadata": {},
   "outputs": [
    {
     "name": "stdout",
     "output_type": "stream",
     "text": [
      "0.022781676264559684\n",
      "1052.5834160135585\n"
     ]
    }
   ],
   "source": [
    "print(__(5000.0, '/cm').au)\n",
    "print(__(1/300, '/K').au)"
   ]
  },
  {
   "cell_type": "markdown",
   "metadata": {},
   "source": [
    "- Define the models"
   ]
  },
  {
   "cell_type": "code",
   "execution_count": 2,
   "metadata": {},
   "outputs": [],
   "source": [
    "betas = {'HT': __(1 / 100_000, '/K').au, 'ZT': None, 'RT': __(1 / 300, '/K').au}\n",
    "\n",
    "# System settings:\n",
    "e = __(5000.0, '/cm').au\n",
    "v = __(0.0, '/cm').au\n",
    "h = backend.array([[0, v], [v, e]])\n",
    "op = backend.array([[0.0, 0.0], [0.0, 1.0]])\n",
    "rdo = backend.array([[0.5, 0.5], [0.5, 0.5]])\n",
    "\n",
    "# Bath settings:\n",
    "include_drude = True\n",
    "include_brownian = False\n",
    "include_discrete = False\n",
    "\n",
    "distr = BoseEinstein(n=0, beta=betas['HT'])\n",
    "corr = Correlation(distr)\n",
    "if include_drude:\n",
    "    corr += Drude(__(200, '/cm').au, __(50, '/cm').au, distr)\n",
    "if include_brownian:\n",
    "    corr += UnderdampedBrownian(__(500, '/cm').au, __(1500, '/cm').au, __(50, '/cm').au, distr)\n",
    "if include_discrete:\n",
    "    corr += DiscreteVibration( __(1500, '/cm').au, __(500, '/cm').au, distr)\n",
    "\n",
    "# HEOM basis settings\n",
    "use_dvr = False\n",
    "scaling_factor = None\n",
    "dim = 400\n",
    "dvr_length = 100\n",
    "\n",
    "# Propagator settings:\n",
    "callback_steps = 10\n",
    "steps = 1000 * callback_steps\n",
    "interval = __(0.1 / callback_steps, 'fs')\n",
    "ode_method = 'dopri5'\n",
    "\n",
    "# logging\n",
    "if include_drude and include_brownian:\n",
    "    prefix = 'all'\n",
    "elif include_brownian:\n",
    "    prefix = 'brownian'\n",
    "elif include_drude:\n",
    "    prefix = 'drude'\n",
    "else:\n",
    "    prefix = 'dummy'\n",
    "fname = prefix + f'-{\"dvr\" if use_dvr else \"heom\"}-{corr.k_max}({dim})-tst'\n",
    "if use_dvr:\n",
    "    fname += f'-L{dvr_length}'"
   ]
  },
  {
   "cell_type": "code",
   "execution_count": 3,
   "metadata": {},
   "outputs": [],
   "source": [
    "def iter_hierachy():\n",
    "    corr.print()\n",
    "    logger = Logger(filename=fname + '.log', level='info').logger\n",
    "    logger.info(f'# device:{backend.device} | use_DVR:{use_dvr} | beta:{distr.beta} | Brownian:{include_brownian} | Drude:{include_drude}')\n",
    "    logger.info(f'# dim:{dim} | K:{corr.k_max} | ODE_method:{ode_method} | dt:{interval} | callback:{callback_steps}')\n",
    "\n",
    "    if not use_dvr:\n",
    "        dims = [dim] * corr.k_max\n",
    "        Hierachy.scaling_factor = scaling_factor\n",
    "        heom_op = Hierachy(h, op, corr, dims)\n",
    "        s = ExtendedDensityTensor(rdo, dims)\n",
    "    else:\n",
    "        bases = [(-dvr_length, dvr_length, dim)] * corr.k_max\n",
    "        SineHierachy.scaling_factor = scaling_factor\n",
    "        heom_op = SineHierachy(h, op, corr, bases)\n",
    "        s = SineExtendedDensityTensor(rdo, bases)\n",
    "    solver = Propagator(heom_op, s, interval.au, ode_method=ode_method)\n",
    "\n",
    "    logger.info('# time rdo00 rdo01 rdo10 rdo11')\n",
    "    it = trange(steps)\n",
    "    for i in it:\n",
    "        solver.step()\n",
    "        if i % callback_steps == 0:\n",
    "            _t = interval * i\n",
    "            _rdo = s.get_rdo()\n",
    "            logger.info(f'{_t.au} {_rdo[0, 0]} {_rdo[0, 1]} {_rdo[1, 0]} {_rdo[1, 1]}')\n",
    "\n",
    "            yield s[s.root]\n",
    "\n",
    "            trace = abs(_rdo[0, 0] + _rdo[1, 1])\n",
    "            coh = abs(_rdo[0, 1])\n",
    "            it.set_description(f'Time:{_t.value:.2f}fs | Tr:{trace:.4f} | Coh:{coh:.4f}')"
   ]
  },
  {
   "cell_type": "code",
   "execution_count": 4,
   "metadata": {},
   "outputs": [
    {
     "name": "stdout",
     "output_type": "stream",
     "text": [
      "Correlation coefficents:\n",
      "            c: [0.00057716-2.07601909e-07j];\n",
      "            (c* = [0.00057716+2.07601909e-07j];)\n",
      "            gamma: [-0.00022782+0.j].\n",
      "        \n"
     ]
    },
    {
     "name": "stderr",
     "output_type": "stream",
     "text": [
      "Time:99.90fs | Tr:1.0000 | Coh:0.0000: 100%|██████████| 10000/10000 [03:51<00:00, 43.27it/s]\n"
     ]
    }
   ],
   "source": [
    "for _ in iter_hierachy():\n",
    "    pass"
   ]
  },
  {
   "cell_type": "code",
   "execution_count": 5,
   "metadata": {},
   "outputs": [],
   "source": [
    "# !rm data/*.png\n",
    "\n",
    "# from matplotlib import pyplot as plt\n",
    "# from matplotlib import cm\n",
    "# import numpy as np\n",
    "# plt.rcParams[\"figure.figsize\"] = (10,10)\n",
    "\n",
    "# if not use_dvr:\n",
    "#     basis = SineDVR(-32, 32, 512)\n",
    "#     x = basis.grid_points\n",
    "#     xx, yy = np.meshgrid(x, x)\n",
    "#     tfmat = backend.optimize(basis.fock2dvr_mat[:, :dim])\n",
    "# else:\n",
    "#     basis = SineDVR(-dvr_length, dvr_length, dim)\n",
    "#     x = basis.grid_points\n",
    "#     xx, yy = np.meshgrid(x, x)\n",
    "#     tfmat = backend.optimize(basis.fock2dvr_mat)\n",
    "\n",
    "# levels = np.linspace(-32, 32, 100)\n",
    "# for i, edt in enumerate(iter_hierachy()):\n",
    "#     if not use_dvr:\n",
    "#         for _i in range(2):\n",
    "#             edt = backend.opt_tensordot(edt, tfmat, ([_i + 2], [1])).moveaxis(-1, _i + 2)\n",
    "    \n",
    "#     edt_np = edt.cpu().numpy()\n",
    "#     _d = edt_np.shape[-1]\n",
    "#     pop = np.abs(edt_np[0, 0, :, :]) * _d\n",
    "#     coh = np.abs(edt_np[0, 1, :, :]) * _d\n",
    "#     plt.contourf(xx, yy, coh, levels, cmap=cm.seismic)\n",
    "#     plt.xlim(-10, 10)\n",
    "#     plt.ylim(-10, 10)\n",
    "#     plt.savefig(f'data/{i:05d}.png')\n",
    "#     plt.close()\n",
    "\n",
    "# !ffmpeg -framerate 50 -pattern_type glob -i 'data/*.png' -c:v libx264 -pix_fmt yuv420p data/out.mp4 -y\n",
    "# !rm data/*.png"
   ]
  },
  {
   "cell_type": "code",
   "execution_count": 6,
   "metadata": {},
   "outputs": [],
   "source": [
    "# %matplotlib inline\n",
    "# from matplotlib import pyplot as plt\n",
    "# from matplotlib import cm\n",
    "# import numpy as np\n",
    "# import matplotlib.animation as animation\n",
    "# plt.rcParams[\"figure.figsize\"] = (10,10)\n",
    "\n",
    "# basis = SineDVR(-100, 100, 100)\n",
    "# x = basis.grid_points\n",
    "# tfmat = backend.optimize(basis.fock2dvr_mat[:, :dim])\n",
    "\n",
    "# for i, edt in enumerate(iter_hierachy()):\n",
    "#     if not use_dvr:\n",
    "#         edt = backend.opt_tensordot(edt, tfmat, ([2], [1])).moveaxis(-1, 2)\n",
    "#     else:\n",
    "#         raise NotImplementedError\n",
    "#     edt_np = edt.cpu().numpy()\n",
    "#     pop = np.abs(edt_np[0, 0, :, 0])\n",
    "#     coh = np.abs(edt_np[0, 1, :, 0])\n",
    "#     plt.plot(x, coh)\n",
    "#     plt.xlim(-5, 5)\n",
    "#     plt.ylim(-5, 5)\n",
    "#     plt.savefig(f'{i:05d}')\n",
    "#     plt.close()"
   ]
  }
 ],
 "metadata": {
  "interpreter": {
   "hash": "9097477f71f05ca144fa92f1c01b72993e246a69e6581e30ec887f31571c2631"
  },
  "kernelspec": {
   "display_name": "Python 3 (ipykernel)",
   "language": "python",
   "name": "python3"
  },
  "language_info": {
   "codemirror_mode": {
    "name": "ipython",
    "version": 3
   },
   "file_extension": ".py",
   "mimetype": "text/x-python",
   "name": "python",
   "nbconvert_exporter": "python",
   "pygments_lexer": "ipython3",
   "version": "3.10.4"
  },
  "toc-autonumbering": true,
  "toc-showcode": true
 },
 "nbformat": 4,
 "nbformat_minor": 4
}
