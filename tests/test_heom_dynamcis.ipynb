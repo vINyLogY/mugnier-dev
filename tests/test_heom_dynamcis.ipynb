{
 "cells": [
  {
   "cell_type": "code",
   "execution_count": 14,
   "metadata": {},
   "outputs": [],
   "source": [
    "from mugnier.basis.dvr import SineDVR\n",
    "from mugnier.heom.bath import (BoseEinstein, Correlation, DiscreteVibration, Drude, UnderdampedBrownian)\n",
    "from mugnier.heom.hierachy import (ExtendedDensityTensor, Hierachy, SineExtendedDensityTensor, SineHierachy)\n",
    "from mugnier.libs import backend\n",
    "from mugnier.libs.logging import Logger\n",
    "from mugnier.libs.quantity import Quantity as __\n",
    "from mugnier.operator.spo import Integrator\n",
    "from tqdm import trange"
   ]
  },
  {
   "cell_type": "markdown",
   "metadata": {},
   "source": [
    "- Define the models"
   ]
  },
  {
   "cell_type": "code",
   "execution_count": 15,
   "metadata": {},
   "outputs": [],
   "source": [
    "betas = {'HT': __(1 / 100_000, '/K').au, 'ZT': None, 'RT': __(1 / 300, '/K').au}\n",
    "\n",
    "# System settings:\n",
    "e = __(5000.0, '/cm').au\n",
    "v = __(0.0, '/cm').au\n",
    "h = backend.array([[0, v], [v, e]])\n",
    "op = backend.array([[0.0, 0.0], [0.0, 1.0]])\n",
    "rdo = backend.array([[0.5, 0.5], [0.5, 0.5]])\n",
    "\n",
    "# Bath settings:\n",
    "include_drude = True\n",
    "include_brownian = False\n",
    "include_discrete = False\n",
    "\n",
    "distr = BoseEinstein(n=3, beta=betas['RT'])\n",
    "corr = Correlation(distr)\n",
    "if include_drude:\n",
    "    corr += Drude(__(200, '/cm').au, __(50, '/cm').au, distr)\n",
    "if include_brownian:\n",
    "    corr += UnderdampedBrownian(__(500, '/cm').au, __(1500, '/cm').au, __(50, '/cm').au, distr)\n",
    "if include_discrete:\n",
    "    corr += DiscreteVibration( __(1500, '/cm').au, __(500, '/cm').au, distr)\n",
    "\n",
    "# HEOM basis settings\n",
    "use_dvr = True\n",
    "scaling_factor = None\n",
    "dim = 20\n",
    "dvr_length = 100\n",
    "\n",
    "# Propagator settings:\n",
    "callback_steps = 10\n",
    "steps = 500 * callback_steps\n",
    "interval = __(0.1 / callback_steps, 'fs')\n",
    "ode_method = 'dopri5'\n",
    "\n",
    "# logging\n",
    "if include_drude and include_brownian:\n",
    "    prefix = 'all'\n",
    "elif include_brownian:\n",
    "    prefix = 'brownian'\n",
    "elif include_drude:\n",
    "    prefix = 'drude'\n",
    "else:\n",
    "    prefix = 'dummy'\n",
    "fname = prefix + f'-{\"dvr\" if use_dvr else \"heom\"}-{corr.k_max}({dim})'\n",
    "if use_dvr:\n",
    "    fname += f'-L{dvr_length}'"
   ]
  },
  {
   "cell_type": "code",
   "execution_count": 16,
   "metadata": {},
   "outputs": [],
   "source": [
    "def iter_hierachy():\n",
    "    corr.print()\n",
    "    logger = Logger(filename=fname + '.log', level='info').logger\n",
    "    logger.info(f'# device:{backend.device} | use_DVR:{use_dvr} | Brownian:{include_brownian} | Drude:{include_drude}')\n",
    "    logger.info(f'# dim:{dim} | K:{corr.k_max} | ODE_method:{ode_method} | dt:{interval} | callback:{callback_steps}')\n",
    "\n",
    "    if not use_dvr:\n",
    "        dims = [dim] * corr.k_max\n",
    "        Hierachy.scaling_factor = scaling_factor\n",
    "        heom_op = Hierachy(h, op, corr, dims)\n",
    "        s = ExtendedDensityTensor(rdo, dims)\n",
    "    else:\n",
    "        bases = [(-dvr_length, dvr_length, dim)] * corr.k_max\n",
    "        SineHierachy.scaling_factor = scaling_factor\n",
    "        heom_op = SineHierachy(h, op, corr, bases)\n",
    "        s = SineExtendedDensityTensor(rdo, bases)\n",
    "    solver = Integrator(heom_op, s)\n",
    "\n",
    "    logger.info('# time rdo00 rdo01 rdo10 rdo11')\n",
    "    it = trange(steps)\n",
    "    for i in it:\n",
    "        solver.odeint(interval.au, method=ode_method)\n",
    "        if i % callback_steps == 0:\n",
    "            _t = interval * i\n",
    "            _rdo = s.get_rdo()\n",
    "            logger.info(f'{_t.au} {_rdo[0, 0]} {_rdo[0, 1]} {_rdo[1, 0]} {_rdo[1, 1]}')\n",
    "\n",
    "            yield s[s.root]\n",
    "\n",
    "            trace = abs(_rdo[0, 0] + _rdo[1, 1])\n",
    "            coh = abs(_rdo[0, 1])\n",
    "            it.set_description(f'Time:{_t.value:.2f}fs | Tr:{trace:.4f} | Coh:{coh:.4f}')"
   ]
  },
  {
   "cell_type": "code",
   "execution_count": 17,
   "metadata": {},
   "outputs": [
    {
     "name": "stdout",
     "output_type": "stream",
     "text": [
      "Correlation coefficents:\n",
      "            c: [1.7231816e-06-2.0760191e-07j 1.3238414e-07+0.0000000e+00j\n",
      " 8.3395243e-08+0.0000000e+00j 2.5748091e-07+0.0000000e+00j];\n",
      "            (c* = [1.7231816e-06+2.0760191e-07j 1.3238414e-07-0.0000000e+00j\n",
      " 8.3395243e-08-0.0000000e+00j 2.5748091e-07-0.0000000e+00j];)\n",
      "            gamma: [-0.00022782+0.j -0.0059694 +0.j -0.01231094+0.j -0.03431489+0.j].\n",
      "        \n"
     ]
    },
    {
     "name": "stderr",
     "output_type": "stream",
     "text": [
      "Time:0.10fs | Tr:0.0404 | Coh:0.0202:   0%|          | 20/5000 [00:35<2:28:16,  1.79s/it]"
     ]
    }
   ],
   "source": [
    "for _ in iter_hierachy():\n",
    "    pass"
   ]
  },
  {
   "cell_type": "code",
   "execution_count": null,
   "metadata": {},
   "outputs": [
    {
     "name": "stdout",
     "output_type": "stream",
     "text": [
      "rm: cannot remove 'data/*.png': No such file or directory\n",
      "Correlation coefficents:\n",
      "            c: [1.7231816e-06-2.0760191e-07j 1.3238414e-07+0.0000000e+00j\n",
      " 8.3395243e-08+0.0000000e+00j 2.5748091e-07+0.0000000e+00j];\n",
      "            (c* = [1.7231816e-06+2.0760191e-07j 1.3238414e-07-0.0000000e+00j\n",
      " 8.3395243e-08-0.0000000e+00j 2.5748091e-07-0.0000000e+00j];)\n",
      "            gamma: [-0.00022782+0.j -0.0059694 +0.j -0.01231094+0.j -0.03431489+0.j].\n",
      "        \n"
     ]
    },
    {
     "name": "stderr",
     "output_type": "stream",
     "text": [
      "  0%|          | 0/5000 [00:01<?, ?it/s]\n"
     ]
    },
    {
     "ename": "TypeError",
     "evalue": "Input z must be 2D, not 4D",
     "output_type": "error",
     "traceback": [
      "\u001b[0;31m---------------------------------------------------------------------------\u001b[0m",
      "\u001b[0;31mTypeError\u001b[0m                                 Traceback (most recent call last)",
      "\u001b[1;32m/home/vinylogy/pyth/tests/test_heom_dynamcis.ipynb Cell 5'\u001b[0m in \u001b[0;36m<cell line: 20>\u001b[0;34m()\u001b[0m\n\u001b[1;32m     <a href='vscode-notebook-cell://wsl%2Bubuntu/home/vinylogy/pyth/tests/test_heom_dynamcis.ipynb#ch0000009vscode-remote?line=26'>27</a>\u001b[0m pop \u001b[39m=\u001b[39m np\u001b[39m.\u001b[39mabs(edt_np[\u001b[39m0\u001b[39m, \u001b[39m0\u001b[39m, :, :]) \u001b[39m*\u001b[39m _d\n\u001b[1;32m     <a href='vscode-notebook-cell://wsl%2Bubuntu/home/vinylogy/pyth/tests/test_heom_dynamcis.ipynb#ch0000009vscode-remote?line=27'>28</a>\u001b[0m coh \u001b[39m=\u001b[39m np\u001b[39m.\u001b[39mabs(edt_np[\u001b[39m0\u001b[39m, \u001b[39m1\u001b[39m, :, :]) \u001b[39m*\u001b[39m _d\n\u001b[0;32m---> <a href='vscode-notebook-cell://wsl%2Bubuntu/home/vinylogy/pyth/tests/test_heom_dynamcis.ipynb#ch0000009vscode-remote?line=28'>29</a>\u001b[0m plt\u001b[39m.\u001b[39;49mcontourf(xx, yy, coh, levels, cmap\u001b[39m=\u001b[39;49mcm\u001b[39m.\u001b[39;49mseismic)\n\u001b[1;32m     <a href='vscode-notebook-cell://wsl%2Bubuntu/home/vinylogy/pyth/tests/test_heom_dynamcis.ipynb#ch0000009vscode-remote?line=29'>30</a>\u001b[0m plt\u001b[39m.\u001b[39mxlim(\u001b[39m-\u001b[39m\u001b[39m10\u001b[39m, \u001b[39m10\u001b[39m)\n\u001b[1;32m     <a href='vscode-notebook-cell://wsl%2Bubuntu/home/vinylogy/pyth/tests/test_heom_dynamcis.ipynb#ch0000009vscode-remote?line=30'>31</a>\u001b[0m plt\u001b[39m.\u001b[39mylim(\u001b[39m-\u001b[39m\u001b[39m10\u001b[39m, \u001b[39m10\u001b[39m)\n",
      "File \u001b[0;32m~/miniforge3/envs/mkl/lib/python3.10/site-packages/matplotlib/pyplot.py:2482\u001b[0m, in \u001b[0;36mcontourf\u001b[0;34m(data, *args, **kwargs)\u001b[0m\n\u001b[1;32m   <a href='file:///home/vinylogy/miniforge3/envs/mkl/lib/python3.10/site-packages/matplotlib/pyplot.py?line=2479'>2480</a>\u001b[0m \u001b[39m@_copy_docstring_and_deprecators\u001b[39m(Axes\u001b[39m.\u001b[39mcontourf)\n\u001b[1;32m   <a href='file:///home/vinylogy/miniforge3/envs/mkl/lib/python3.10/site-packages/matplotlib/pyplot.py?line=2480'>2481</a>\u001b[0m \u001b[39mdef\u001b[39;00m \u001b[39mcontourf\u001b[39m(\u001b[39m*\u001b[39margs, data\u001b[39m=\u001b[39m\u001b[39mNone\u001b[39;00m, \u001b[39m*\u001b[39m\u001b[39m*\u001b[39mkwargs):\n\u001b[0;32m-> <a href='file:///home/vinylogy/miniforge3/envs/mkl/lib/python3.10/site-packages/matplotlib/pyplot.py?line=2481'>2482</a>\u001b[0m     __ret \u001b[39m=\u001b[39m gca()\u001b[39m.\u001b[39;49mcontourf(\n\u001b[1;32m   <a href='file:///home/vinylogy/miniforge3/envs/mkl/lib/python3.10/site-packages/matplotlib/pyplot.py?line=2482'>2483</a>\u001b[0m         \u001b[39m*\u001b[39;49margs, \u001b[39m*\u001b[39;49m\u001b[39m*\u001b[39;49m({\u001b[39m\"\u001b[39;49m\u001b[39mdata\u001b[39;49m\u001b[39m\"\u001b[39;49m: data} \u001b[39mif\u001b[39;49;00m data \u001b[39mis\u001b[39;49;00m \u001b[39mnot\u001b[39;49;00m \u001b[39mNone\u001b[39;49;00m \u001b[39melse\u001b[39;49;00m {}),\n\u001b[1;32m   <a href='file:///home/vinylogy/miniforge3/envs/mkl/lib/python3.10/site-packages/matplotlib/pyplot.py?line=2483'>2484</a>\u001b[0m         \u001b[39m*\u001b[39;49m\u001b[39m*\u001b[39;49mkwargs)\n\u001b[1;32m   <a href='file:///home/vinylogy/miniforge3/envs/mkl/lib/python3.10/site-packages/matplotlib/pyplot.py?line=2484'>2485</a>\u001b[0m     \u001b[39mif\u001b[39;00m __ret\u001b[39m.\u001b[39m_A \u001b[39mis\u001b[39;00m \u001b[39mnot\u001b[39;00m \u001b[39mNone\u001b[39;00m: sci(__ret)  \u001b[39m# noqa\u001b[39;00m\n\u001b[1;32m   <a href='file:///home/vinylogy/miniforge3/envs/mkl/lib/python3.10/site-packages/matplotlib/pyplot.py?line=2485'>2486</a>\u001b[0m     \u001b[39mreturn\u001b[39;00m __ret\n",
      "File \u001b[0;32m~/miniforge3/envs/mkl/lib/python3.10/site-packages/matplotlib/__init__.py:1412\u001b[0m, in \u001b[0;36m_preprocess_data.<locals>.inner\u001b[0;34m(ax, data, *args, **kwargs)\u001b[0m\n\u001b[1;32m   <a href='file:///home/vinylogy/miniforge3/envs/mkl/lib/python3.10/site-packages/matplotlib/__init__.py?line=1408'>1409</a>\u001b[0m \u001b[39m@functools\u001b[39m\u001b[39m.\u001b[39mwraps(func)\n\u001b[1;32m   <a href='file:///home/vinylogy/miniforge3/envs/mkl/lib/python3.10/site-packages/matplotlib/__init__.py?line=1409'>1410</a>\u001b[0m \u001b[39mdef\u001b[39;00m \u001b[39minner\u001b[39m(ax, \u001b[39m*\u001b[39margs, data\u001b[39m=\u001b[39m\u001b[39mNone\u001b[39;00m, \u001b[39m*\u001b[39m\u001b[39m*\u001b[39mkwargs):\n\u001b[1;32m   <a href='file:///home/vinylogy/miniforge3/envs/mkl/lib/python3.10/site-packages/matplotlib/__init__.py?line=1410'>1411</a>\u001b[0m     \u001b[39mif\u001b[39;00m data \u001b[39mis\u001b[39;00m \u001b[39mNone\u001b[39;00m:\n\u001b[0;32m-> <a href='file:///home/vinylogy/miniforge3/envs/mkl/lib/python3.10/site-packages/matplotlib/__init__.py?line=1411'>1412</a>\u001b[0m         \u001b[39mreturn\u001b[39;00m func(ax, \u001b[39m*\u001b[39m\u001b[39mmap\u001b[39m(sanitize_sequence, args), \u001b[39m*\u001b[39m\u001b[39m*\u001b[39mkwargs)\n\u001b[1;32m   <a href='file:///home/vinylogy/miniforge3/envs/mkl/lib/python3.10/site-packages/matplotlib/__init__.py?line=1413'>1414</a>\u001b[0m     bound \u001b[39m=\u001b[39m new_sig\u001b[39m.\u001b[39mbind(ax, \u001b[39m*\u001b[39margs, \u001b[39m*\u001b[39m\u001b[39m*\u001b[39mkwargs)\n\u001b[1;32m   <a href='file:///home/vinylogy/miniforge3/envs/mkl/lib/python3.10/site-packages/matplotlib/__init__.py?line=1414'>1415</a>\u001b[0m     auto_label \u001b[39m=\u001b[39m (bound\u001b[39m.\u001b[39marguments\u001b[39m.\u001b[39mget(label_namer)\n\u001b[1;32m   <a href='file:///home/vinylogy/miniforge3/envs/mkl/lib/python3.10/site-packages/matplotlib/__init__.py?line=1415'>1416</a>\u001b[0m                   \u001b[39mor\u001b[39;00m bound\u001b[39m.\u001b[39mkwargs\u001b[39m.\u001b[39mget(label_namer))\n",
      "File \u001b[0;32m~/miniforge3/envs/mkl/lib/python3.10/site-packages/matplotlib/axes/_axes.py:6317\u001b[0m, in \u001b[0;36mAxes.contourf\u001b[0;34m(self, *args, **kwargs)\u001b[0m\n\u001b[1;32m   <a href='file:///home/vinylogy/miniforge3/envs/mkl/lib/python3.10/site-packages/matplotlib/axes/_axes.py?line=6307'>6308</a>\u001b[0m \u001b[39m\"\"\"\u001b[39;00m\n\u001b[1;32m   <a href='file:///home/vinylogy/miniforge3/envs/mkl/lib/python3.10/site-packages/matplotlib/axes/_axes.py?line=6308'>6309</a>\u001b[0m \u001b[39mPlot filled contours.\u001b[39;00m\n\u001b[1;32m   <a href='file:///home/vinylogy/miniforge3/envs/mkl/lib/python3.10/site-packages/matplotlib/axes/_axes.py?line=6309'>6310</a>\u001b[0m \n\u001b[0;32m   (...)\u001b[0m\n\u001b[1;32m   <a href='file:///home/vinylogy/miniforge3/envs/mkl/lib/python3.10/site-packages/matplotlib/axes/_axes.py?line=6313'>6314</a>\u001b[0m \u001b[39m%(contour_doc)s\u001b[39;00m\n\u001b[1;32m   <a href='file:///home/vinylogy/miniforge3/envs/mkl/lib/python3.10/site-packages/matplotlib/axes/_axes.py?line=6314'>6315</a>\u001b[0m \u001b[39m\"\"\"\u001b[39;00m\n\u001b[1;32m   <a href='file:///home/vinylogy/miniforge3/envs/mkl/lib/python3.10/site-packages/matplotlib/axes/_axes.py?line=6315'>6316</a>\u001b[0m kwargs[\u001b[39m'\u001b[39m\u001b[39mfilled\u001b[39m\u001b[39m'\u001b[39m] \u001b[39m=\u001b[39m \u001b[39mTrue\u001b[39;00m\n\u001b[0;32m-> <a href='file:///home/vinylogy/miniforge3/envs/mkl/lib/python3.10/site-packages/matplotlib/axes/_axes.py?line=6316'>6317</a>\u001b[0m contours \u001b[39m=\u001b[39m mcontour\u001b[39m.\u001b[39;49mQuadContourSet(\u001b[39mself\u001b[39;49m, \u001b[39m*\u001b[39;49margs, \u001b[39m*\u001b[39;49m\u001b[39m*\u001b[39;49mkwargs)\n\u001b[1;32m   <a href='file:///home/vinylogy/miniforge3/envs/mkl/lib/python3.10/site-packages/matplotlib/axes/_axes.py?line=6317'>6318</a>\u001b[0m \u001b[39mself\u001b[39m\u001b[39m.\u001b[39m_request_autoscale_view()\n\u001b[1;32m   <a href='file:///home/vinylogy/miniforge3/envs/mkl/lib/python3.10/site-packages/matplotlib/axes/_axes.py?line=6318'>6319</a>\u001b[0m \u001b[39mreturn\u001b[39;00m contours\n",
      "File \u001b[0;32m~/miniforge3/envs/mkl/lib/python3.10/site-packages/matplotlib/contour.py:812\u001b[0m, in \u001b[0;36mContourSet.__init__\u001b[0;34m(self, ax, levels, filled, linewidths, linestyles, hatches, alpha, origin, extent, cmap, colors, norm, vmin, vmax, extend, antialiased, nchunk, locator, transform, *args, **kwargs)\u001b[0m\n\u001b[1;32m    <a href='file:///home/vinylogy/miniforge3/envs/mkl/lib/python3.10/site-packages/matplotlib/contour.py?line=807'>808</a>\u001b[0m     \u001b[39mself\u001b[39m\u001b[39m.\u001b[39morigin \u001b[39m=\u001b[39m mpl\u001b[39m.\u001b[39mrcParams[\u001b[39m'\u001b[39m\u001b[39mimage.origin\u001b[39m\u001b[39m'\u001b[39m]\n\u001b[1;32m    <a href='file:///home/vinylogy/miniforge3/envs/mkl/lib/python3.10/site-packages/matplotlib/contour.py?line=809'>810</a>\u001b[0m \u001b[39mself\u001b[39m\u001b[39m.\u001b[39m_transform \u001b[39m=\u001b[39m transform\n\u001b[0;32m--> <a href='file:///home/vinylogy/miniforge3/envs/mkl/lib/python3.10/site-packages/matplotlib/contour.py?line=811'>812</a>\u001b[0m kwargs \u001b[39m=\u001b[39m \u001b[39mself\u001b[39;49m\u001b[39m.\u001b[39;49m_process_args(\u001b[39m*\u001b[39;49margs, \u001b[39m*\u001b[39;49m\u001b[39m*\u001b[39;49mkwargs)\n\u001b[1;32m    <a href='file:///home/vinylogy/miniforge3/envs/mkl/lib/python3.10/site-packages/matplotlib/contour.py?line=812'>813</a>\u001b[0m \u001b[39mself\u001b[39m\u001b[39m.\u001b[39m_process_levels()\n\u001b[1;32m    <a href='file:///home/vinylogy/miniforge3/envs/mkl/lib/python3.10/site-packages/matplotlib/contour.py?line=814'>815</a>\u001b[0m \u001b[39mself\u001b[39m\u001b[39m.\u001b[39m_extend_min \u001b[39m=\u001b[39m \u001b[39mself\u001b[39m\u001b[39m.\u001b[39mextend \u001b[39min\u001b[39;00m [\u001b[39m'\u001b[39m\u001b[39mmin\u001b[39m\u001b[39m'\u001b[39m, \u001b[39m'\u001b[39m\u001b[39mboth\u001b[39m\u001b[39m'\u001b[39m]\n",
      "File \u001b[0;32m~/miniforge3/envs/mkl/lib/python3.10/site-packages/matplotlib/contour.py:1441\u001b[0m, in \u001b[0;36mQuadContourSet._process_args\u001b[0;34m(self, corner_mask, *args, **kwargs)\u001b[0m\n\u001b[1;32m   <a href='file:///home/vinylogy/miniforge3/envs/mkl/lib/python3.10/site-packages/matplotlib/contour.py?line=1437'>1438</a>\u001b[0m     corner_mask \u001b[39m=\u001b[39m mpl\u001b[39m.\u001b[39mrcParams[\u001b[39m'\u001b[39m\u001b[39mcontour.corner_mask\u001b[39m\u001b[39m'\u001b[39m]\n\u001b[1;32m   <a href='file:///home/vinylogy/miniforge3/envs/mkl/lib/python3.10/site-packages/matplotlib/contour.py?line=1438'>1439</a>\u001b[0m \u001b[39mself\u001b[39m\u001b[39m.\u001b[39m_corner_mask \u001b[39m=\u001b[39m corner_mask\n\u001b[0;32m-> <a href='file:///home/vinylogy/miniforge3/envs/mkl/lib/python3.10/site-packages/matplotlib/contour.py?line=1440'>1441</a>\u001b[0m x, y, z \u001b[39m=\u001b[39m \u001b[39mself\u001b[39;49m\u001b[39m.\u001b[39;49m_contour_args(args, kwargs)\n\u001b[1;32m   <a href='file:///home/vinylogy/miniforge3/envs/mkl/lib/python3.10/site-packages/matplotlib/contour.py?line=1442'>1443</a>\u001b[0m _mask \u001b[39m=\u001b[39m ma\u001b[39m.\u001b[39mgetmask(z)\n\u001b[1;32m   <a href='file:///home/vinylogy/miniforge3/envs/mkl/lib/python3.10/site-packages/matplotlib/contour.py?line=1443'>1444</a>\u001b[0m \u001b[39mif\u001b[39;00m _mask \u001b[39mis\u001b[39;00m ma\u001b[39m.\u001b[39mnomask \u001b[39mor\u001b[39;00m \u001b[39mnot\u001b[39;00m _mask\u001b[39m.\u001b[39many():\n",
      "File \u001b[0;32m~/miniforge3/envs/mkl/lib/python3.10/site-packages/matplotlib/contour.py:1480\u001b[0m, in \u001b[0;36mQuadContourSet._contour_args\u001b[0;34m(self, args, kwargs)\u001b[0m\n\u001b[1;32m   <a href='file:///home/vinylogy/miniforge3/envs/mkl/lib/python3.10/site-packages/matplotlib/contour.py?line=1477'>1478</a>\u001b[0m     args \u001b[39m=\u001b[39m args[\u001b[39m1\u001b[39m:]\n\u001b[1;32m   <a href='file:///home/vinylogy/miniforge3/envs/mkl/lib/python3.10/site-packages/matplotlib/contour.py?line=1478'>1479</a>\u001b[0m \u001b[39melif\u001b[39;00m Nargs \u001b[39m<\u001b[39m\u001b[39m=\u001b[39m \u001b[39m4\u001b[39m:\n\u001b[0;32m-> <a href='file:///home/vinylogy/miniforge3/envs/mkl/lib/python3.10/site-packages/matplotlib/contour.py?line=1479'>1480</a>\u001b[0m     x, y, z \u001b[39m=\u001b[39m \u001b[39mself\u001b[39;49m\u001b[39m.\u001b[39;49m_check_xyz(args[:\u001b[39m3\u001b[39;49m], kwargs)\n\u001b[1;32m   <a href='file:///home/vinylogy/miniforge3/envs/mkl/lib/python3.10/site-packages/matplotlib/contour.py?line=1480'>1481</a>\u001b[0m     args \u001b[39m=\u001b[39m args[\u001b[39m3\u001b[39m:]\n\u001b[1;32m   <a href='file:///home/vinylogy/miniforge3/envs/mkl/lib/python3.10/site-packages/matplotlib/contour.py?line=1481'>1482</a>\u001b[0m \u001b[39melse\u001b[39;00m:\n",
      "File \u001b[0;32m~/miniforge3/envs/mkl/lib/python3.10/site-packages/matplotlib/contour.py:1508\u001b[0m, in \u001b[0;36mQuadContourSet._check_xyz\u001b[0;34m(self, args, kwargs)\u001b[0m\n\u001b[1;32m   <a href='file:///home/vinylogy/miniforge3/envs/mkl/lib/python3.10/site-packages/matplotlib/contour.py?line=1504'>1505</a>\u001b[0m z \u001b[39m=\u001b[39m ma\u001b[39m.\u001b[39masarray(args[\u001b[39m2\u001b[39m], dtype\u001b[39m=\u001b[39mnp\u001b[39m.\u001b[39mfloat64)\n\u001b[1;32m   <a href='file:///home/vinylogy/miniforge3/envs/mkl/lib/python3.10/site-packages/matplotlib/contour.py?line=1506'>1507</a>\u001b[0m \u001b[39mif\u001b[39;00m z\u001b[39m.\u001b[39mndim \u001b[39m!=\u001b[39m \u001b[39m2\u001b[39m:\n\u001b[0;32m-> <a href='file:///home/vinylogy/miniforge3/envs/mkl/lib/python3.10/site-packages/matplotlib/contour.py?line=1507'>1508</a>\u001b[0m     \u001b[39mraise\u001b[39;00m \u001b[39mTypeError\u001b[39;00m(\u001b[39mf\u001b[39m\u001b[39m\"\u001b[39m\u001b[39mInput z must be 2D, not \u001b[39m\u001b[39m{\u001b[39;00mz\u001b[39m.\u001b[39mndim\u001b[39m}\u001b[39;00m\u001b[39mD\u001b[39m\u001b[39m\"\u001b[39m)\n\u001b[1;32m   <a href='file:///home/vinylogy/miniforge3/envs/mkl/lib/python3.10/site-packages/matplotlib/contour.py?line=1508'>1509</a>\u001b[0m \u001b[39mif\u001b[39;00m z\u001b[39m.\u001b[39mshape[\u001b[39m0\u001b[39m] \u001b[39m<\u001b[39m \u001b[39m2\u001b[39m \u001b[39mor\u001b[39;00m z\u001b[39m.\u001b[39mshape[\u001b[39m1\u001b[39m] \u001b[39m<\u001b[39m \u001b[39m2\u001b[39m:\n\u001b[1;32m   <a href='file:///home/vinylogy/miniforge3/envs/mkl/lib/python3.10/site-packages/matplotlib/contour.py?line=1509'>1510</a>\u001b[0m     \u001b[39mraise\u001b[39;00m \u001b[39mTypeError\u001b[39;00m(\u001b[39mf\u001b[39m\u001b[39m\"\u001b[39m\u001b[39mInput z must be at least a (2, 2) shaped array, \u001b[39m\u001b[39m\"\u001b[39m\n\u001b[1;32m   <a href='file:///home/vinylogy/miniforge3/envs/mkl/lib/python3.10/site-packages/matplotlib/contour.py?line=1510'>1511</a>\u001b[0m                     \u001b[39mf\u001b[39m\u001b[39m\"\u001b[39m\u001b[39mbut has shape \u001b[39m\u001b[39m{\u001b[39;00mz\u001b[39m.\u001b[39mshape\u001b[39m}\u001b[39;00m\u001b[39m\"\u001b[39m)\n",
      "\u001b[0;31mTypeError\u001b[0m: Input z must be 2D, not 4D"
     ]
    },
    {
     "data": {
      "image/png": "[encoded data removed]",
      "text/plain": [
       "<Figure size 720x720 with 1 Axes>"
      ]
     },
     "metadata": {
      "needs_background": "light"
     },
     "output_type": "display_data"
    }
   ],
   "source": [
    "# !rm data/*.png\n",
    "\n",
    "# from matplotlib import pyplot as plt\n",
    "# from matplotlib import cm\n",
    "# import numpy as np\n",
    "# plt.rcParams[\"figure.figsize\"] = (10,10)\n",
    "\n",
    "# if not use_dvr:\n",
    "#     basis = SineDVR(-32, 32, 512)\n",
    "#     x = basis.grid_points\n",
    "#     xx, yy = np.meshgrid(x, x)\n",
    "#     tfmat = backend.optimize(basis.fock2dvr_mat[:, :dim])\n",
    "# else:\n",
    "#     basis = SineDVR(-dvr_length, dvr_length, dim)\n",
    "#     x = basis.grid_points\n",
    "#     xx, yy = np.meshgrid(x, x)\n",
    "#     tfmat = backend.optimize(basis.fock2dvr_mat)\n",
    "\n",
    "# levels = np.linspace(-32, 32, 100)\n",
    "# for i, edt in enumerate(iter_hierachy()):\n",
    "#     if not use_dvr:\n",
    "#         for _i in range(2):\n",
    "#             edt = backend.opt_tensordot(edt, tfmat, ([_i + 2], [1])).moveaxis(-1, _i + 2)\n",
    "    \n",
    "#     edt_np = edt.cpu().numpy()\n",
    "#     _d = edt_np.shape[-1]\n",
    "#     pop = np.abs(edt_np[0, 0, :, :]) * _d\n",
    "#     coh = np.abs(edt_np[0, 1, :, :]) * _d\n",
    "#     plt.contourf(xx, yy, coh, levels, cmap=cm.seismic)\n",
    "#     plt.xlim(-10, 10)\n",
    "#     plt.ylim(-10, 10)\n",
    "#     plt.savefig(f'data/{i:05d}.png')\n",
    "#     plt.close()\n",
    "\n",
    "# !ffmpeg -framerate 50 -pattern_type glob -i 'data/*.png' -c:v libx264 -pix_fmt yuv420p data/out.mp4 -y\n",
    "# !rm data/*.png"
   ]
  },
  {
   "cell_type": "code",
   "execution_count": null,
   "metadata": {},
   "outputs": [],
   "source": [
    "# %matplotlib inline\n",
    "# from matplotlib import pyplot as plt\n",
    "# from matplotlib import cm\n",
    "# import numpy as np\n",
    "# import matplotlib.animation as animation\n",
    "# plt.rcParams[\"figure.figsize\"] = (10,10)\n",
    "\n",
    "# basis = SineDVR(-100, 100, 100)\n",
    "# x = basis.grid_points\n",
    "# tfmat = backend.optimize(basis.fock2dvr_mat[:, :dim])\n",
    "\n",
    "# for i, edt in enumerate(iter_hierachy()):\n",
    "#     if not use_dvr:\n",
    "#         edt = backend.opt_tensordot(edt, tfmat, ([2], [1])).moveaxis(-1, 2)\n",
    "#     else:\n",
    "#         raise NotImplementedError\n",
    "#     edt_np = edt.cpu().numpy()\n",
    "#     pop = np.abs(edt_np[0, 0, :, 0])\n",
    "#     coh = np.abs(edt_np[0, 1, :, 0])\n",
    "#     plt.plot(x, coh)\n",
    "#     plt.xlim(-5, 5)\n",
    "#     plt.ylim(-5, 5)\n",
    "#     plt.savefig(f'{i:05d}')\n",
    "#     plt.close()"
   ]
  }
 ],
 "metadata": {
  "interpreter": {
   "hash": "9097477f71f05ca144fa92f1c01b72993e246a69e6581e30ec887f31571c2631"
  },
  "kernelspec": {
   "display_name": "Python 3 (ipykernel)",
   "language": "python",
   "name": "python3"
  },
  "language_info": {
   "codemirror_mode": {
    "name": "ipython",
    "version": 3
   },
   "file_extension": ".py",
   "mimetype": "text/x-python",
   "name": "python",
   "nbconvert_exporter": "python",
   "pygments_lexer": "ipython3",
   "version": "3.10.4"
  },
  "toc-autonumbering": true,
  "toc-showcode": true
 },
 "nbformat": 4,
 "nbformat_minor": 4
}
